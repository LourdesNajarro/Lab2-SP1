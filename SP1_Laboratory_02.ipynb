{
  "nbformat": 4,
  "nbformat_minor": 0,
  "metadata": {
    "colab": {
      "provenance": [],
      "include_colab_link": true
    },
    "kernelspec": {
      "name": "python3",
      "display_name": "Python 3"
    },
    "language_info": {
      "name": "python"
    }
  },
  "cells": [
    {
      "cell_type": "markdown",
      "metadata": {
        "id": "view-in-github",
        "colab_type": "text"
      },
      "source": [
        "<a href=\"https://colab.research.google.com/github/LourdesNajarro/Lab2-SP1/blob/main/SP1_Laboratory_02.ipynb\" target=\"_parent\"><img src=\"https://colab.research.google.com/assets/colab-badge.svg\" alt=\"Open In Colab\"/></a>"
      ]
    },
    {
      "cell_type": "markdown",
      "source": [
        "# PERSONAL INFORMATION\n",
        "\n",
        "Name:\n",
        "\n",
        "ID:"
      ],
      "metadata": {
        "id": "U1YqkcSKdnG8"
      }
    },
    {
      "cell_type": "markdown",
      "source": [
        "# Requirements:\n",
        "\n",
        "*   Implement the whole ML Pipeline (Acquire data, pre-process data, create model, train model & evaluate model)\n",
        "*   Accuracy must be above 40%\n",
        "*   Must use the Tensorboard and display the model's train process\n",
        "*   Must use the following Callbacks: EarlyStopping and ModelCheckpoint\n",
        "*   Extra (+10): Include confusion Matrix and 2 suggestions on how to improve the model (just write them, do not implement them)\n",
        "\n",
        "\n"
      ],
      "metadata": {
        "id": "SOWq6TrlXJmx"
      }
    },
    {
      "cell_type": "markdown",
      "metadata": {
        "id": "v2hOe4K0Hmut"
      },
      "source": [
        "## Preparations"
      ]
    },
    {
      "cell_type": "code",
      "metadata": {
        "id": "TEWUjG0IIJkk"
      },
      "source": [
        "# ----- Libraries ----- #\n",
        "\n",
        "# This is the main Library that allows us to work with Neural Networks\n",
        "import tensorflow as tf\n",
        "\n",
        "\n",
        "# For graph plotting\n",
        "import matplotlib.pyplot as plt\n",
        "from tensorflow.math import confusion_matrix\n",
        "\n",
        "# For dataset manipulation\n",
        "import pandas as pd\n",
        "from sklearn.model_selection import train_test_split\n",
        "import numpy as np\n",
        "\n",
        "# For visualizing more complex graphs\n",
        "import seaborn as sns\n",
        "\n",
        "# Global constant for training acceleration\n",
        "AUTOTUNE = tf.data.AUTOTUNE"
      ],
      "execution_count": null,
      "outputs": []
    },
    {
      "cell_type": "markdown",
      "metadata": {
        "id": "ARASHphaKU6D"
      },
      "source": [
        "# 1) Dataset Preparations"
      ]
    },
    {
      "cell_type": "code",
      "metadata": {
        "id": "8KMmvqGMGOXu"
      },
      "source": [
        "'''\n",
        "The dataset you are going to use is the following:\n",
        "https://archive.ics.uci.edu/ml/datasets/Credit+Approval\n",
        "'''\n",
        "\n",
        "# Getting Dataset\n",
        "!wget https://archive.ics.uci.edu/ml/machine-learning-databases/cpu-performance/machine.data"
      ],
      "execution_count": null,
      "outputs": []
    },
    {
      "cell_type": "markdown",
      "source": [
        "# READ ME\n",
        "\n",
        "When you are finished with your laboratory, remember to share it. Make the URL public for Galileo.edu domain or for everyone.\n",
        "Also, remember to hit Ctrl+S to save your progress."
      ],
      "metadata": {
        "id": "L3YiL9uhVBSf"
      }
    }
  ]
}